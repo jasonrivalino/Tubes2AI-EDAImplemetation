{
 "cells": [
  {
   "cell_type": "code",
   "execution_count": 33,
   "id": "35468655",
   "metadata": {},
   "outputs": [],
   "source": [
    "import numpy as np\n",
    "import pandas as pd\n",
    "import math\n",
    "\n",
    "dataset1 = pd.read_csv('data_train.csv')\n",
    "dataset2 = pd.read_csv('data_validation.csv')"
   ]
  },
  {
   "cell_type": "code",
   "execution_count": 34,
   "id": "140cf25b",
   "metadata": {},
   "outputs": [],
   "source": [
    "class NaiveBayes:\n",
    "\n",
    "    def datasplitting(self, data1, data2):\n",
    "        self.x_train = data1.iloc[:, :-1].values\n",
    "        self.x_test = data2.iloc[:, :-1].values\n",
    "        self.y_train = data1.iloc[:, -1].values\n",
    "        self.y_test = data2.iloc[:, -1].values\n",
    "        return self.x_train, self.x_test, self.y_train, self.y_test\n",
    "\n",
    "    def fit(self, X, y):\n",
    "        # Kelas untuk kolom target\n",
    "        self.classes = np.unique(y)\n",
    "\n",
    "        # Menghitung rata-rata, variansi, dan prior untuk setiap kelas kolom target\n",
    "        self.mean = []\n",
    "        self.var = []\n",
    "        self.priors = []\n",
    "\n",
    "        for idx, classes in enumerate(self.classes):\n",
    "            x_class = X[y == classes] # Ambil data dengan kelas tertentu\n",
    "            self.mean.append(x_class.mean(axis=0))\n",
    "            self.var.append(x_class.var(axis=0))\n",
    "            self.priors.append(len(x_class) / len(X))\n",
    "\n",
    "    def predict(self, X):\n",
    "        predictionY = []\n",
    "\n",
    "        # Menghitung posterior untuk setiap kelas dan mencari kelas dengan posterior tertinggi\n",
    "        for x in X:\n",
    "            posteriorList = []\n",
    "            for index, classes in enumerate(self.classes):\n",
    "                # Hitung probabilitas dari setiap kelas\n",
    "                priors = np.log(self.priors[index])\n",
    "                # Hitung probabilitas dari setiap atribut\n",
    "                likelihood = np.sum(np.log(self.GaussianFormula(index, x)))\n",
    "                posterior = priors + likelihood\n",
    "                posteriorList.append(posterior)\n",
    "            predictionY.append(self.classes[np.argmax(posteriorList)]) # Cari posterior tertinggi\n",
    "            \n",
    "        return np.array(predictionY) # Mengembalikan hasil prediksi\n",
    "    \n",
    "    def GaussianFormula(self, index, x):\n",
    "        rata2 = self.mean[index]\n",
    "        variansi = self.var[index]\n",
    "        return (1 / (np.sqrt(2 * np.pi * variansi))) * np.exp(-((x - rata2) ** 2) / (2 * variansi))"
   ]
  },
  {
   "cell_type": "code",
   "execution_count": 35,
   "id": "c3e468e6",
   "metadata": {},
   "outputs": [
    {
     "name": "stdout",
     "output_type": "stream",
     "text": [
      "Hasil akurasi dengan Naive-Bayes sebesar 0.7816666666666666\n"
     ]
    }
   ],
   "source": [
    "nb = NaiveBayes()\n",
    "x_train, x_test, y_train, y_test = nb.datasplitting(dataset1, dataset2)\n",
    "nb.fit(x_train, y_train)\n",
    "predictions = nb.predict(x_test)\n",
    "accuracy = np.sum(y_test == predictions) / len(y_test)\n",
    "\n",
    "print(\"Hasil akurasi dengan Naive-Bayes sebesar\", accuracy)"
   ]
  }
 ],
 "metadata": {
  "kernelspec": {
   "display_name": "Python 3 (ipykernel)",
   "language": "python",
   "name": "python3"
  },
  "language_info": {
   "codemirror_mode": {
    "name": "ipython",
    "version": 3
   },
   "file_extension": ".py",
   "mimetype": "text/x-python",
   "name": "python",
   "nbconvert_exporter": "python",
   "pygments_lexer": "ipython3",
   "version": "3.11.0"
  }
 },
 "nbformat": 4,
 "nbformat_minor": 5
}
