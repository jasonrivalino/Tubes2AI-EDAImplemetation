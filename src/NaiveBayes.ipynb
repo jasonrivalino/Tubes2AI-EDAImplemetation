{
 "cells": [
  {
   "cell_type": "code",
   "execution_count": 4,
   "id": "35468655",
   "metadata": {},
   "outputs": [],
   "source": [
    "import numpy as np\n",
    "import pandas as pd\n",
    "import math"
   ]
  },
  {
   "cell_type": "code",
   "execution_count": 5,
   "id": "140cf25b",
   "metadata": {},
   "outputs": [],
   "source": [
    "class NaiveBayes:\n",
    "    \n",
    "    def fit(self, X, y):\n",
    "        # Kelas untuk kolom target\n",
    "        self.classes = np.unique(y)\n",
    "\n",
    "        # Menghitung rata-rata, variansi, dan prior untuk setiap kelas kolom target\n",
    "        self.mean = []\n",
    "        self.var = []\n",
    "        self.priors = []\n",
    "\n",
    "        for idx, c in enumerate(self.classes):\n",
    "            X_c = X[y == c]\n",
    "            self.mean.append(X_c.mean(axis=0))\n",
    "            self.var.append(X_c.var(axis=0))\n",
    "            self.priors.append(len(X_c) / len(X))\n",
    "            \n",
    "    # def fitBoolean(self, X, y):\n",
    "    #     true = []\n",
    "    #     false = []\n",
    "\n",
    "    #     for i in range(len(X)):\n",
    "    #         if y[i] == 1:\n",
    "    #             true.append(X[i])\n",
    "    #         else:\n",
    "    #             false.append(X[i])\n",
    "    #     print(true)\n",
    "\n",
    "    def predict(self, X):\n",
    "        y_pred = []\n",
    "\n",
    "        # Menghitung posterior untuk setiap kelas dan mencari kelas dengan posterior tertinggi\n",
    "        for x in X:\n",
    "            posteriors = []\n",
    "            for index, c in enumerate(self.classes):\n",
    "                prior = np.log(self.priors[index])\n",
    "                likelihood = np.sum(np.log(self.rumus(index, x)))\n",
    "                posterior = prior + likelihood\n",
    "                posteriors.append(posterior)\n",
    "            y_pred.append(self.classes[np.argmax(posteriors)])\n",
    "            \n",
    "        return np.array(y_pred)\n",
    "    \n",
    "    def rumus(self, index, x):\n",
    "        rata2 = self.mean[index]\n",
    "        variansi = self.var[index]\n",
    "        return (1 / (np.sqrt(2 * np.pi * variansi))) * np.exp(-((x - rata2) ** 2) / (2 * variansi))"
   ]
  },
  {
   "cell_type": "code",
   "execution_count": 6,
   "id": "c3e468e6",
   "metadata": {},
   "outputs": [
    {
     "name": "stdout",
     "output_type": "stream",
     "text": [
      "Naive Bayes classification accuracy 0.7816666666666666\n"
     ]
    }
   ],
   "source": [
    "# Testing\n",
    "if __name__ == \"__main__\":\n",
    "    dataset1 = pd.read_csv('data_train.csv')\n",
    "    dataset2 = pd.read_csv('data_validation.csv')\n",
    "\n",
    "    def accuracy(y_true, y_pred):\n",
    "        accuracy = np.sum(y_true == y_pred) / len(y_true)\n",
    "        return accuracy\n",
    "\n",
    "    x_train = dataset1.iloc[:, :-1].values\n",
    "    x_test = dataset2.iloc[:, :-1].values\n",
    "    y_train = dataset1.iloc[:, 20].values\n",
    "    y_test = dataset2.iloc[:, 20].values\n",
    "\n",
    "    nb = NaiveBayes()\n",
    "    nb.fit(x_train, y_train)\n",
    "    predictions = nb.predict(x_test)\n",
    "\n",
    "    print(\"Naive Bayes classification accuracy\", accuracy(y_test, predictions))"
   ]
  }
 ],
 "metadata": {
  "kernelspec": {
   "display_name": "Python 3 (ipykernel)",
   "language": "python",
   "name": "python3"
  },
  "language_info": {
   "codemirror_mode": {
    "name": "ipython",
    "version": 3
   },
   "file_extension": ".py",
   "mimetype": "text/x-python",
   "name": "python",
   "nbconvert_exporter": "python",
   "pygments_lexer": "ipython3",
   "version": "3.11.0"
  }
 },
 "nbformat": 4,
 "nbformat_minor": 5
}
