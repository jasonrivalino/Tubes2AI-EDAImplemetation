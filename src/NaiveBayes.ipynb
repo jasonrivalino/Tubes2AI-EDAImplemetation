{
 "cells": [
  {
   "cell_type": "code",
   "execution_count": 69,
   "id": "35468655",
   "metadata": {},
   "outputs": [],
   "source": [
    "import numpy as np\n",
    "import pandas as pd\n",
    "import pickle\n",
    "\n",
    "dataset1 = pd.read_csv('data_train.csv')\n",
    "dataset2 = pd.read_csv('data_validation.csv')"
   ]
  },
  {
   "cell_type": "code",
   "execution_count": 70,
   "id": "140cf25b",
   "metadata": {},
   "outputs": [],
   "source": [
    "class NaiveBayes:\n",
    "\n",
    "    def datasplitting(self, data1, data2):\n",
    "        self.x_train = data1.iloc[:, :-1].values\n",
    "        self.x_test = data2.iloc[:, :-1].values\n",
    "        self.y_train = data1.iloc[:, -1].values\n",
    "        self.y_test = data2.iloc[:, -1].values\n",
    "        return self.x_train, self.x_test, self.y_train, self.y_test\n",
    "    \n",
    "    def save_model(self, filename):\n",
    "        with open(filename, 'wb') as file:\n",
    "            pickle.dump(self, file)\n",
    "\n",
    "    @classmethod\n",
    "    def load_model(cls, filename):\n",
    "        with open(filename, 'rb') as file:\n",
    "            return pickle.load(file)\n",
    "\n",
    "    def fit(self, X, y):\n",
    "        # Kelas untuk kolom target\n",
    "        self.classes = np.unique(y)\n",
    "\n",
    "        # Menghitung rata-rata, variansi, dan prior untuk setiap kelas kolom target\n",
    "        self.mean = []\n",
    "        self.var = []\n",
    "        self.priors = []\n",
    "\n",
    "        for idx, classes in enumerate(self.classes):\n",
    "            x_class = X[y == classes] # Ambil data dengan kelas tertentu\n",
    "            self.mean.append(x_class.mean(axis=0))\n",
    "            self.var.append(x_class.var(axis=0))\n",
    "            self.priors.append(len(x_class) / len(X))\n",
    "\n",
    "    def predict(self, X):\n",
    "        predictionY = []\n",
    "\n",
    "        # Menghitung posterior untuk setiap kelas dan mencari kelas dengan posterior tertinggi\n",
    "        for x in X:\n",
    "            posteriorList = []\n",
    "            for index, classes in enumerate(self.classes):\n",
    "                # Hitung probabilitas dari setiap kelas\n",
    "                priors = np.log(self.priors[index])\n",
    "                # Hitung probabilitas dari setiap atribut dengan distribusi Gaussian\n",
    "                likelihood = np.sum(np.log(self.GaussianFormula(index, x)))\n",
    "                posterior = priors + likelihood\n",
    "                posteriorList.append(posterior)\n",
    "            predictionY.append(self.classes[np.argmax(posteriorList)]) # Cari posterior tertinggi\n",
    "            \n",
    "        return np.array(predictionY) # Mengembalikan hasil prediksi\n",
    "    \n",
    "    def GaussianFormula(self, index, x):\n",
    "        rata2 = self.mean[index]\n",
    "        variansi = self.var[index]\n",
    "        return (1 / (np.sqrt(2 * np.pi * variansi))) * np.exp(-((x - rata2) ** 2) / (2 * variansi))"
   ]
  },
  {
   "cell_type": "code",
   "execution_count": 71,
   "id": "c3e468e6",
   "metadata": {},
   "outputs": [
    {
     "name": "stdout",
     "output_type": "stream",
     "text": [
      "Predicted    0   1    2    3\n",
      "Actual                      \n",
      "0          125  17    0    0\n",
      "1           18  93   33    0\n",
      "2            0  30  110   15\n",
      "3            0   0   18  141\n",
      "\n",
      "              precision    recall  f1-score   support\n",
      "\n",
      "           0       0.87      0.88      0.88       142\n",
      "           1       0.66      0.65      0.65       144\n",
      "           2       0.68      0.71      0.70       155\n",
      "           3       0.90      0.89      0.90       159\n",
      "\n",
      "    accuracy                           0.78       600\n",
      "   macro avg       0.78      0.78      0.78       600\n",
      "weighted avg       0.78      0.78      0.78       600\n",
      "\n",
      "Hasil akurasi dengan Naive-Bayes sebesar 0.7816666666666666\n",
      "Hasil akurasi dengan Naive-Bayes setelah load model sebesar 0.7816666666666666\n"
     ]
    }
   ],
   "source": [
    "nb = NaiveBayes()\n",
    "x_train, x_test, y_train, y_test = nb.datasplitting(dataset1, dataset2)\n",
    "nb.fit(x_train, y_train)\n",
    "predictions = nb.predict(x_test)\n",
    "accuracy = np.sum(y_test == predictions) / len(y_test)\n",
    "\n",
    "# Print Confusion matrix\n",
    "confusion_matrix = pd.crosstab(y_test, predictions, rownames=['Actual'], colnames=['Predicted'])\n",
    "print(confusion_matrix)\n",
    "print()\n",
    "\n",
    "print(\"Hasil akurasi dengan Naive-Bayes sebesar\", accuracy)\n",
    "\n",
    "nb.save_model('naive_bayes_model.txt')\n",
    "loaded_nb = NaiveBayes.load_model('naive_bayes_model.txt')\n",
    "\n",
    "predictions = loaded_nb.predict(x_test)\n",
    "accuracy = np.sum(y_test == predictions) / len(y_test)\n",
    "\n",
    "print(\"Hasil akurasi dengan Naive-Bayes setelah load model sebesar\", accuracy)"
   ]
  }
 ],
 "metadata": {
  "kernelspec": {
   "display_name": "Python 3 (ipykernel)",
   "language": "python",
   "name": "python3"
  },
  "language_info": {
   "codemirror_mode": {
    "name": "ipython",
    "version": 3
   },
   "file_extension": ".py",
   "mimetype": "text/x-python",
   "name": "python",
   "nbconvert_exporter": "python",
   "pygments_lexer": "ipython3",
   "version": "3.11.0"
  }
 },
 "nbformat": 4,
 "nbformat_minor": 5
}
