{
  "cells": [
    {
      "cell_type": "markdown",
      "source": [
        "# Implementasi dengan Algoritma KNN (scikit-learn)"
      ],
      "metadata": {
        "id": "Gs9XbWKnynhP"
      },
      "id": "Gs9XbWKnynhP"
    },
    {
      "cell_type": "code",
      "execution_count": null,
      "id": "6aef6ed7",
      "metadata": {
        "id": "6aef6ed7"
      },
      "outputs": [],
      "source": [
        "import numpy as nm\n",
        "import matplotlib.pyplot as mtp\n",
        "import pandas as pd\n",
        "dataset1 = pd.read_csv('data_train.csv')\n",
        "dataset2 = pd.read_csv('data_validation.csv')"
      ]
    },
    {
      "cell_type": "code",
      "execution_count": null,
      "id": "10a12a1b",
      "metadata": {
        "id": "10a12a1b"
      },
      "outputs": [],
      "source": [
        "# import seaborn as sns\n",
        "# sns.scatterplot(x=dataset1['battery_power'],y=dataset1['clock_speed'], hue=dataset1['price_range'])"
      ]
    },
    {
      "cell_type": "markdown",
      "source": [
        "## Setup"
      ],
      "metadata": {
        "id": "zNkFvtvqy1Jz"
      },
      "id": "zNkFvtvqy1Jz"
    },
    {
      "cell_type": "code",
      "execution_count": null,
      "id": "982ce99a",
      "metadata": {
        "id": "982ce99a"
      },
      "outputs": [],
      "source": [
        "# dataset splitting\n",
        "x_train = dataset1.iloc[:, :-1].values\n",
        "x_test = dataset2.iloc[:, :-1].values\n",
        "y_train = dataset1.iloc[:, -1].values\n",
        "y_test = dataset2.iloc[:, -1].values"
      ]
    },
    {
      "cell_type": "code",
      "execution_count": null,
      "id": "f723325a",
      "metadata": {
        "id": "f723325a"
      },
      "outputs": [],
      "source": [
        "# from sklearn.preprocessing import StandardScaler\n",
        "# # standarisasi dataset training\n",
        "# scaler = StandardScaler()\n",
        "# scaler.fit(x_train)\n",
        "\n",
        "# x_train = scaler.transform(x_train)\n",
        "# x_test = scaler.transform(x_test)"
      ]
    },
    {
      "cell_type": "markdown",
      "source": [
        "## Mencari K terbaik dan menunjukkan hasil akurasi"
      ],
      "metadata": {
        "id": "ffUwNdS1y38E"
      },
      "id": "ffUwNdS1y38E"
    },
    {
      "cell_type": "code",
      "execution_count": null,
      "id": "1af15b70",
      "metadata": {
        "colab": {
          "base_uri": "https://localhost:8080/"
        },
        "id": "1af15b70",
        "outputId": "cd2b2324-473e-43cc-8f85-c9951ab08a9d"
      },
      "outputs": [
        {
          "output_type": "stream",
          "name": "stdout",
          "text": [
            "k = [56]\n",
            "accuracy = 0.94\n"
          ]
        }
      ],
      "source": [
        "from sklearn.neighbors import KNeighborsClassifier\n",
        "from sklearn.metrics import accuracy_score, confusion_matrix, classification_report, ConfusionMatrixDisplay\n",
        "\n",
        "# Mencari nilai k terbaik dengan Scikit\n",
        "k = []\n",
        "accuracy = 0\n",
        "for i in range (1,len(x_test)):\n",
        "  KNN_Scikit = KNeighborsClassifier(i, weights=\"distance\", p=2)\n",
        "  KNN_Scikit.fit(x_train, y_train)\n",
        "  y_pred = KNN_Scikit.predict(x_test)\n",
        "  accuracy_temp = accuracy_score(y_test, y_pred)\n",
        "  if (accuracy_temp > accuracy):\n",
        "    accuracy = accuracy_temp\n",
        "    k = [i]\n",
        "  elif (accuracy_temp == accuracy):\n",
        "    accuracy = accuracy_temp\n",
        "    k.append(i)\n",
        "\n",
        "print(f'k = {k}')\n",
        "print(f'accuracy = {accuracy}')\n",
        "print()\n",
        "print(\"Confusion Matrix:\")\n",
        "print(confusion_matrix(y_test, y_pred))\n",
        "print()\n",
        "print(\"Classification Report:\")\n",
        "print(classification_report(y_test, y_pred))\n",
        "cmd = ConfusionMatrixDisplay(confusion_matrix=confusion_matrix(y_test, y_pred), display_labels=classifier.classes_)\n",
        "fig, ax = plt.subplots(figsize=(5, 5))\n",
        "cmd.plot(ax=ax)"
      ]
    },
    {
      "cell_type": "code",
      "execution_count": null,
      "id": "7a65c2c4",
      "metadata": {
        "id": "7a65c2c4"
      },
      "outputs": [],
      "source": [
        "y_pred = KNN_Scikit.predict(x_test)\n",
        "y_pred"
      ]
    },
    {
      "cell_type": "markdown",
      "id": "7bc35581",
      "metadata": {
        "id": "7bc35581"
      },
      "source": [
        "*****"
      ]
    }
  ],
  "metadata": {
    "kernelspec": {
      "display_name": "Python 3 (ipykernel)",
      "language": "python",
      "name": "python3"
    },
    "language_info": {
      "codemirror_mode": {
        "name": "ipython",
        "version": 3
      },
      "file_extension": ".py",
      "mimetype": "text/x-python",
      "name": "python",
      "nbconvert_exporter": "python",
      "pygments_lexer": "ipython3",
      "version": "3.11.0"
    },
    "colab": {
      "provenance": [],
      "toc_visible": true
    }
  },
  "nbformat": 4,
  "nbformat_minor": 5
}