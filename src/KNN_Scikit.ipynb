{
  "cells": [
    {
      "cell_type": "markdown",
      "id": "Gs9XbWKnynhP",
      "metadata": {
        "id": "Gs9XbWKnynhP"
      },
      "source": [
        "# Implementasi dengan Algoritma KNN (scikit-learn)"
      ]
    },
    {
      "cell_type": "code",
      "execution_count": 6,
      "id": "6aef6ed7",
      "metadata": {
        "id": "6aef6ed7"
      },
      "outputs": [],
      "source": [
        "import numpy as nm\n",
        "import matplotlib.pyplot as plt\n",
        "import pandas as pd\n",
        "dataset1 = pd.read_csv('data_train.csv')\n",
        "dataset2 = pd.read_csv('data_validation.csv')"
      ]
    },
    {
      "cell_type": "markdown",
      "id": "zNkFvtvqy1Jz",
      "metadata": {
        "id": "zNkFvtvqy1Jz"
      },
      "source": [
        "## Setup"
      ]
    },
    {
      "cell_type": "code",
      "execution_count": 7,
      "id": "982ce99a",
      "metadata": {
        "id": "982ce99a"
      },
      "outputs": [],
      "source": [
        "# dataset splitting\n",
        "x_train = dataset1.iloc[:, :-1].values\n",
        "x_test = dataset2.iloc[:, :-1].values\n",
        "y_train = dataset1.iloc[:, -1].values\n",
        "y_test = dataset2.iloc[:, -1].values"
      ]
    },
    {
      "cell_type": "markdown",
      "id": "ffUwNdS1y38E",
      "metadata": {
        "id": "ffUwNdS1y38E"
      },
      "source": [
        "## Mencari K terbaik dan menunjukkan hasil akurasi"
      ]
    },
    {
      "cell_type": "code",
      "execution_count": null,
      "id": "1af15b70",
      "metadata": {
        "colab": {
          "base_uri": "https://localhost:8080/"
        },
        "id": "1af15b70",
        "outputId": "cd2b2324-473e-43cc-8f85-c9951ab08a9d"
      },
      "outputs": [],
      "source": [
        "from sklearn.neighbors import KNeighborsClassifier\n",
        "from sklearn.metrics import accuracy_score, confusion_matrix, classification_report, ConfusionMatrixDisplay\n",
        "\n",
        "# Mencari nilai k terbaik dengan Scikit\n",
        "k = []\n",
        "accuracy = 0\n",
        "for i in range (1,len(x_test)):\n",
        "  KNN_Scikit = KNeighborsClassifier(i, weights=\"distance\", p=2)\n",
        "  KNN_Scikit.fit(x_train, y_train)\n",
        "  y_pred = KNN_Scikit.predict(x_test)\n",
        "  accuracy_temp = accuracy_score(y_test, y_pred)\n",
        "  if (accuracy_temp > accuracy):\n",
        "    accuracy = accuracy_temp\n",
        "    k = [i]\n",
        "  elif (accuracy_temp == accuracy):\n",
        "    accuracy = accuracy_temp\n",
        "    k.append(i)\n",
        "\n",
        "print(f'k = {k}')\n",
        "print(f'accuracy = {accuracy}')\n",
        "print()\n",
        "print(\"Confusion Matrix:\")\n",
        "print(confusion_matrix(y_test, y_pred))\n",
        "print()\n",
        "print(\"Classification Report:\")\n",
        "print(classification_report(y_test, y_pred))\n",
        "cmd = ConfusionMatrixDisplay(confusion_matrix=confusion_matrix(y_test, y_pred), display_labels=KNN_Scikit.classes_)\n",
        "fig, ax = plt.subplots(figsize=(5, 5))\n",
        "cmd.plot(ax=ax)"
      ]
    },
    {
      "cell_type": "code",
      "execution_count": 9,
      "id": "7a65c2c4",
      "metadata": {
        "id": "7a65c2c4"
      },
      "outputs": [
        {
          "data": {
            "text/plain": [
              "array([2, 2, 3, 0, 3, 1, 3, 0, 3, 1, 3, 2, 3, 0, 3, 0, 2, 1, 0, 2, 3, 1,\n",
              "       0, 1, 1, 0, 2, 1, 0, 2, 1, 3, 3, 0, 2, 3, 1, 3, 1, 1, 0, 2, 0, 2,\n",
              "       2, 1, 1, 2, 2, 3, 1, 2, 3, 0, 1, 3, 2, 3, 3, 2, 2, 3, 3, 1, 3, 2,\n",
              "       3, 2, 2, 3, 2, 3, 1, 0, 1, 2, 0, 3, 1, 0, 3, 3, 0, 2, 3, 1, 3, 3,\n",
              "       0, 2, 1, 1, 1, 2, 1, 0, 3, 2, 1, 3, 3, 3, 1, 2, 3, 2, 3, 3, 3, 3,\n",
              "       3, 3, 2, 2, 3, 1, 0, 3, 1, 3, 1, 2, 2, 3, 2, 0, 2, 2, 1, 3, 3, 1,\n",
              "       0, 0, 3, 0, 0, 1, 3, 0, 1, 3, 3, 1, 2, 3, 1, 2, 1, 2, 3, 0, 0, 2,\n",
              "       1, 0, 2, 0, 0, 3, 3, 3, 0, 2, 3, 0, 0, 1, 0, 2, 3, 1, 0, 1, 0, 1,\n",
              "       3, 0, 2, 0, 3, 1, 1, 2, 0, 2, 0, 3, 2, 0, 3, 2, 0, 0, 2, 0, 1, 3,\n",
              "       3, 1, 1, 2, 2, 3, 2, 3, 3, 3, 0, 2, 0, 2, 3, 1, 2, 2, 2, 0, 0, 2,\n",
              "       2, 1, 3, 3, 0, 2, 0, 3, 0, 2, 2, 2, 2, 1, 3, 0, 1, 3, 3, 3, 0, 0,\n",
              "       1, 1, 3, 3, 1, 2, 0, 2, 1, 2, 3, 3, 0, 2, 2, 1, 1, 1, 0, 2, 2, 3,\n",
              "       3, 0, 1, 3, 3, 0, 0, 2, 1, 1, 1, 0, 3, 2, 2, 2, 0, 1, 0, 2, 1, 1,\n",
              "       0, 0, 3, 0, 3, 0, 1, 0, 1, 3, 3, 2, 0, 2, 1, 0, 0, 1, 2, 2, 0, 3,\n",
              "       1, 1, 0, 2, 3, 1, 3, 2, 3, 1, 2, 2, 0, 0, 2, 1, 2, 1, 0, 1, 1, 0,\n",
              "       3, 2, 3, 2, 2, 2, 3, 0, 1, 0, 1, 1, 0, 2, 2, 2, 2, 2, 1, 2, 3, 0,\n",
              "       2, 1, 2, 3, 2, 3, 2, 0, 3, 0, 0, 3, 2, 0, 3, 2, 1, 2, 0, 0, 1, 2,\n",
              "       1, 3, 0, 0, 2, 2, 0, 2, 1, 0, 3, 2, 3, 3, 0, 0, 0, 3, 1, 0, 3, 0,\n",
              "       0, 2, 0, 3, 1, 0, 1, 1, 1, 2, 0, 1, 1, 2, 3, 1, 2, 2, 3, 1, 1, 2,\n",
              "       2, 2, 0, 1, 3, 0, 0, 1, 0, 0, 0, 3, 0, 1, 2, 0, 0, 2, 1, 0, 3, 2,\n",
              "       1, 0, 2, 0, 2, 1, 1, 1, 2, 0, 1, 2, 0, 2, 0, 3, 0, 0, 1, 2, 1, 1,\n",
              "       3, 1, 1, 2, 3, 0, 3, 2, 0, 1, 2, 2, 0, 1, 2, 0, 2, 0, 1, 3, 0, 0,\n",
              "       3, 0, 2, 2, 3, 3, 1, 3, 3, 0, 1, 2, 1, 3, 1, 0, 3, 1, 3, 3, 1, 1,\n",
              "       3, 0, 3, 3, 1, 2, 0, 3, 0, 2, 2, 0, 2, 3, 0, 3, 0, 2, 3, 3, 0, 2,\n",
              "       1, 2, 3, 3, 3, 1, 2, 0, 2, 3, 3, 1, 2, 3, 1, 1, 0, 0, 3, 0, 2, 1,\n",
              "       1, 3, 2, 1, 1, 3, 0, 3, 0, 0, 3, 3, 2, 1, 2, 2, 0, 2, 0, 1, 0, 2,\n",
              "       0, 1, 0, 0, 2, 3, 0, 1, 1, 1, 0, 1, 2, 0, 1, 3, 0, 2, 1, 1, 0, 1,\n",
              "       3, 1, 3, 0, 1, 3], dtype=int64)"
            ]
          },
          "execution_count": 9,
          "metadata": {},
          "output_type": "execute_result"
        }
      ],
      "source": [
        "y_pred = KNN_Scikit.predict(x_test)\n",
        "y_pred"
      ]
    },
    {
      "cell_type": "markdown",
      "id": "7bc35581",
      "metadata": {
        "id": "7bc35581"
      },
      "source": [
        "*****"
      ]
    }
  ],
  "metadata": {
    "colab": {
      "provenance": [],
      "toc_visible": true
    },
    "kernelspec": {
      "display_name": "Python 3 (ipykernel)",
      "language": "python",
      "name": "python3"
    },
    "language_info": {
      "codemirror_mode": {
        "name": "ipython",
        "version": 3
      },
      "file_extension": ".py",
      "mimetype": "text/x-python",
      "name": "python",
      "nbconvert_exporter": "python",
      "pygments_lexer": "ipython3",
      "version": "3.11.0"
    }
  },
  "nbformat": 4,
  "nbformat_minor": 5
}
