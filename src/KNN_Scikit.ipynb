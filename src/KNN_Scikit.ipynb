{
  "cells": [
    {
      "cell_type": "markdown",
      "id": "Gs9XbWKnynhP",
      "metadata": {
        "id": "Gs9XbWKnynhP"
      },
      "source": [
        "# Implementasi dengan Algoritma KNN (scikit-learn)"
      ]
    },
    {
      "cell_type": "code",
      "execution_count": 24,
      "id": "6aef6ed7",
      "metadata": {
        "id": "6aef6ed7"
      },
      "outputs": [],
      "source": [
        "import numpy as nm\n",
        "import matplotlib.pyplot as plt\n",
        "import pandas as pd\n",
        "dataset1 = pd.read_csv('data_train.csv')\n",
        "dataset2 = pd.read_csv('data_validation.csv')"
      ]
    },
    {
      "cell_type": "markdown",
      "id": "zNkFvtvqy1Jz",
      "metadata": {
        "id": "zNkFvtvqy1Jz"
      },
      "source": [
        "## Setup"
      ]
    },
    {
      "cell_type": "code",
      "execution_count": 25,
      "id": "982ce99a",
      "metadata": {
        "id": "982ce99a"
      },
      "outputs": [],
      "source": [
        "# dataset splitting\n",
        "x_train = dataset1.iloc[:, :-1].values\n",
        "x_test = dataset2.iloc[:, :-1].values\n",
        "y_train = dataset1.iloc[:, -1].values\n",
        "y_test = dataset2.iloc[:, -1].values"
      ]
    },
    {
      "cell_type": "markdown",
      "id": "ffUwNdS1y38E",
      "metadata": {
        "id": "ffUwNdS1y38E"
      },
      "source": [
        "## Mencari K terbaik dan menunjukkan hasil akurasi"
      ]
    },
    {
      "cell_type": "code",
      "execution_count": 26,
      "id": "1af15b70",
      "metadata": {
        "colab": {
          "base_uri": "https://localhost:8080/"
        },
        "id": "1af15b70",
        "outputId": "cd2b2324-473e-43cc-8f85-c9951ab08a9d"
      },
      "outputs": [
        {
          "name": "stdout",
          "output_type": "stream",
          "text": [
            "k = [56]\n",
            "accuracy = 0.94\n",
            "\n",
            "Confusion Matrix:\n"
          ]
        },
        {
          "ename": "ValueError",
          "evalue": "Found input variables with inconsistent numbers of samples: [1, 600]",
          "output_type": "error",
          "traceback": [
            "\u001b[1;31m---------------------------------------------------------------------------\u001b[0m",
            "\u001b[1;31mValueError\u001b[0m                                Traceback (most recent call last)",
            "\u001b[1;32md:\\JASON\\KULIAH ITB\\MATKUL\\SEMESTER 5\\Inteligensi Buatan\\Tubes2AI-EDAImplemetation\\src\\KNN_Scikit.ipynb Cell 6\u001b[0m line \u001b[0;36m2\n\u001b[0;32m     <a href='vscode-notebook-cell:/d%3A/JASON/KULIAH%20ITB/MATKUL/SEMESTER%205/Inteligensi%20Buatan/Tubes2AI-EDAImplemetation/src/KNN_Scikit.ipynb#X16sZmlsZQ%3D%3D?line=20'>21</a>\u001b[0m \u001b[39mprint\u001b[39m()\n\u001b[0;32m     <a href='vscode-notebook-cell:/d%3A/JASON/KULIAH%20ITB/MATKUL/SEMESTER%205/Inteligensi%20Buatan/Tubes2AI-EDAImplemetation/src/KNN_Scikit.ipynb#X16sZmlsZQ%3D%3D?line=21'>22</a>\u001b[0m \u001b[39mprint\u001b[39m(\u001b[39m\"\u001b[39m\u001b[39mConfusion Matrix:\u001b[39m\u001b[39m\"\u001b[39m)\n\u001b[1;32m---> <a href='vscode-notebook-cell:/d%3A/JASON/KULIAH%20ITB/MATKUL/SEMESTER%205/Inteligensi%20Buatan/Tubes2AI-EDAImplemetation/src/KNN_Scikit.ipynb#X16sZmlsZQ%3D%3D?line=22'>23</a>\u001b[0m \u001b[39mprint\u001b[39m(confusion_matrix(k, y_pred))\n\u001b[0;32m     <a href='vscode-notebook-cell:/d%3A/JASON/KULIAH%20ITB/MATKUL/SEMESTER%205/Inteligensi%20Buatan/Tubes2AI-EDAImplemetation/src/KNN_Scikit.ipynb#X16sZmlsZQ%3D%3D?line=23'>24</a>\u001b[0m \u001b[39mprint\u001b[39m()\n\u001b[0;32m     <a href='vscode-notebook-cell:/d%3A/JASON/KULIAH%20ITB/MATKUL/SEMESTER%205/Inteligensi%20Buatan/Tubes2AI-EDAImplemetation/src/KNN_Scikit.ipynb#X16sZmlsZQ%3D%3D?line=24'>25</a>\u001b[0m \u001b[39mprint\u001b[39m(\u001b[39m\"\u001b[39m\u001b[39mClassification Report:\u001b[39m\u001b[39m\"\u001b[39m)\n",
            "File \u001b[1;32mc:\\Users\\jason\\AppData\\Local\\Programs\\Python\\Python311\\Lib\\site-packages\\sklearn\\utils\\_param_validation.py:214\u001b[0m, in \u001b[0;36mvalidate_params.<locals>.decorator.<locals>.wrapper\u001b[1;34m(*args, **kwargs)\u001b[0m\n\u001b[0;32m    208\u001b[0m \u001b[39mtry\u001b[39;00m:\n\u001b[0;32m    209\u001b[0m     \u001b[39mwith\u001b[39;00m config_context(\n\u001b[0;32m    210\u001b[0m         skip_parameter_validation\u001b[39m=\u001b[39m(\n\u001b[0;32m    211\u001b[0m             prefer_skip_nested_validation \u001b[39mor\u001b[39;00m global_skip_validation\n\u001b[0;32m    212\u001b[0m         )\n\u001b[0;32m    213\u001b[0m     ):\n\u001b[1;32m--> 214\u001b[0m         \u001b[39mreturn\u001b[39;00m func(\u001b[39m*\u001b[39;49margs, \u001b[39m*\u001b[39;49m\u001b[39m*\u001b[39;49mkwargs)\n\u001b[0;32m    215\u001b[0m \u001b[39mexcept\u001b[39;00m InvalidParameterError \u001b[39mas\u001b[39;00m e:\n\u001b[0;32m    216\u001b[0m     \u001b[39m# When the function is just a wrapper around an estimator, we allow\u001b[39;00m\n\u001b[0;32m    217\u001b[0m     \u001b[39m# the function to delegate validation to the estimator, but we replace\u001b[39;00m\n\u001b[0;32m    218\u001b[0m     \u001b[39m# the name of the estimator by the name of the function in the error\u001b[39;00m\n\u001b[0;32m    219\u001b[0m     \u001b[39m# message to avoid confusion.\u001b[39;00m\n\u001b[0;32m    220\u001b[0m     msg \u001b[39m=\u001b[39m re\u001b[39m.\u001b[39msub(\n\u001b[0;32m    221\u001b[0m         \u001b[39mr\u001b[39m\u001b[39m\"\u001b[39m\u001b[39mparameter of \u001b[39m\u001b[39m\\\u001b[39m\u001b[39mw+ must be\u001b[39m\u001b[39m\"\u001b[39m,\n\u001b[0;32m    222\u001b[0m         \u001b[39mf\u001b[39m\u001b[39m\"\u001b[39m\u001b[39mparameter of \u001b[39m\u001b[39m{\u001b[39;00mfunc\u001b[39m.\u001b[39m\u001b[39m__qualname__\u001b[39m\u001b[39m}\u001b[39;00m\u001b[39m must be\u001b[39m\u001b[39m\"\u001b[39m,\n\u001b[0;32m    223\u001b[0m         \u001b[39mstr\u001b[39m(e),\n\u001b[0;32m    224\u001b[0m     )\n",
            "File \u001b[1;32mc:\\Users\\jason\\AppData\\Local\\Programs\\Python\\Python311\\Lib\\site-packages\\sklearn\\metrics\\_classification.py:326\u001b[0m, in \u001b[0;36mconfusion_matrix\u001b[1;34m(y_true, y_pred, labels, sample_weight, normalize)\u001b[0m\n\u001b[0;32m    231\u001b[0m \u001b[39m@validate_params\u001b[39m(\n\u001b[0;32m    232\u001b[0m     {\n\u001b[0;32m    233\u001b[0m         \u001b[39m\"\u001b[39m\u001b[39my_true\u001b[39m\u001b[39m\"\u001b[39m: [\u001b[39m\"\u001b[39m\u001b[39marray-like\u001b[39m\u001b[39m\"\u001b[39m],\n\u001b[1;32m   (...)\u001b[0m\n\u001b[0;32m    242\u001b[0m     y_true, y_pred, \u001b[39m*\u001b[39m, labels\u001b[39m=\u001b[39m\u001b[39mNone\u001b[39;00m, sample_weight\u001b[39m=\u001b[39m\u001b[39mNone\u001b[39;00m, normalize\u001b[39m=\u001b[39m\u001b[39mNone\u001b[39;00m\n\u001b[0;32m    243\u001b[0m ):\n\u001b[0;32m    244\u001b[0m \u001b[39m    \u001b[39m\u001b[39m\"\"\"Compute confusion matrix to evaluate the accuracy of a classification.\u001b[39;00m\n\u001b[0;32m    245\u001b[0m \n\u001b[0;32m    246\u001b[0m \u001b[39m    By definition a confusion matrix :math:`C` is such that :math:`C_{i, j}`\u001b[39;00m\n\u001b[1;32m   (...)\u001b[0m\n\u001b[0;32m    324\u001b[0m \u001b[39m    (0, 2, 1, 1)\u001b[39;00m\n\u001b[0;32m    325\u001b[0m \u001b[39m    \"\"\"\u001b[39;00m\n\u001b[1;32m--> 326\u001b[0m     y_type, y_true, y_pred \u001b[39m=\u001b[39m _check_targets(y_true, y_pred)\n\u001b[0;32m    327\u001b[0m     \u001b[39mif\u001b[39;00m y_type \u001b[39mnot\u001b[39;00m \u001b[39min\u001b[39;00m (\u001b[39m\"\u001b[39m\u001b[39mbinary\u001b[39m\u001b[39m\"\u001b[39m, \u001b[39m\"\u001b[39m\u001b[39mmulticlass\u001b[39m\u001b[39m\"\u001b[39m):\n\u001b[0;32m    328\u001b[0m         \u001b[39mraise\u001b[39;00m \u001b[39mValueError\u001b[39;00m(\u001b[39m\"\u001b[39m\u001b[39m%s\u001b[39;00m\u001b[39m is not supported\u001b[39m\u001b[39m\"\u001b[39m \u001b[39m%\u001b[39m y_type)\n",
            "File \u001b[1;32mc:\\Users\\jason\\AppData\\Local\\Programs\\Python\\Python311\\Lib\\site-packages\\sklearn\\metrics\\_classification.py:84\u001b[0m, in \u001b[0;36m_check_targets\u001b[1;34m(y_true, y_pred)\u001b[0m\n\u001b[0;32m     57\u001b[0m \u001b[39mdef\u001b[39;00m \u001b[39m_check_targets\u001b[39m(y_true, y_pred):\n\u001b[0;32m     58\u001b[0m \u001b[39m    \u001b[39m\u001b[39m\"\"\"Check that y_true and y_pred belong to the same classification task.\u001b[39;00m\n\u001b[0;32m     59\u001b[0m \n\u001b[0;32m     60\u001b[0m \u001b[39m    This converts multiclass or binary types to a common shape, and raises a\u001b[39;00m\n\u001b[1;32m   (...)\u001b[0m\n\u001b[0;32m     82\u001b[0m \u001b[39m    y_pred : array or indicator matrix\u001b[39;00m\n\u001b[0;32m     83\u001b[0m \u001b[39m    \"\"\"\u001b[39;00m\n\u001b[1;32m---> 84\u001b[0m     check_consistent_length(y_true, y_pred)\n\u001b[0;32m     85\u001b[0m     type_true \u001b[39m=\u001b[39m type_of_target(y_true, input_name\u001b[39m=\u001b[39m\u001b[39m\"\u001b[39m\u001b[39my_true\u001b[39m\u001b[39m\"\u001b[39m)\n\u001b[0;32m     86\u001b[0m     type_pred \u001b[39m=\u001b[39m type_of_target(y_pred, input_name\u001b[39m=\u001b[39m\u001b[39m\"\u001b[39m\u001b[39my_pred\u001b[39m\u001b[39m\"\u001b[39m)\n",
            "File \u001b[1;32mc:\\Users\\jason\\AppData\\Local\\Programs\\Python\\Python311\\Lib\\site-packages\\sklearn\\utils\\validation.py:407\u001b[0m, in \u001b[0;36mcheck_consistent_length\u001b[1;34m(*arrays)\u001b[0m\n\u001b[0;32m    405\u001b[0m uniques \u001b[39m=\u001b[39m np\u001b[39m.\u001b[39munique(lengths)\n\u001b[0;32m    406\u001b[0m \u001b[39mif\u001b[39;00m \u001b[39mlen\u001b[39m(uniques) \u001b[39m>\u001b[39m \u001b[39m1\u001b[39m:\n\u001b[1;32m--> 407\u001b[0m     \u001b[39mraise\u001b[39;00m \u001b[39mValueError\u001b[39;00m(\n\u001b[0;32m    408\u001b[0m         \u001b[39m\"\u001b[39m\u001b[39mFound input variables with inconsistent numbers of samples: \u001b[39m\u001b[39m%r\u001b[39;00m\u001b[39m\"\u001b[39m\n\u001b[0;32m    409\u001b[0m         \u001b[39m%\u001b[39m [\u001b[39mint\u001b[39m(l) \u001b[39mfor\u001b[39;00m l \u001b[39min\u001b[39;00m lengths]\n\u001b[0;32m    410\u001b[0m     )\n",
            "\u001b[1;31mValueError\u001b[0m: Found input variables with inconsistent numbers of samples: [1, 600]"
          ]
        }
      ],
      "source": [
        "from sklearn.neighbors import KNeighborsClassifier\n",
        "from sklearn.metrics import accuracy_score, confusion_matrix, classification_report, ConfusionMatrixDisplay\n",
        "\n",
        "# Mencari nilai k terbaik dengan Scikit\n",
        "k = []\n",
        "accuracy = 0\n",
        "best_y_pred = None\n",
        "\n",
        "for i in range (1,len(x_test)):\n",
        "  KNN_Scikit = KNeighborsClassifier(i, weights=\"distance\", p=2)\n",
        "  KNN_Scikit.fit(x_train, y_train)\n",
        "  y_pred = KNN_Scikit.predict(x_test)\n",
        "  accuracy_temp = accuracy_score(y_test, y_pred)\n",
        "  if (accuracy_temp > accuracy):\n",
        "    accuracy = accuracy_temp\n",
        "    k = [i]\n",
        "    best_y_pred = y_pred\n",
        "  elif (accuracy_temp == accuracy):\n",
        "    accuracy = accuracy_temp\n",
        "    k.append(i)\n",
        "\n",
        "print(f'k = {k}')\n",
        "print(f'accuracy = {accuracy}')\n",
        "print()\n",
        "print(\"Confusion Matrix:\")\n",
        "print(confusion_matrix(y_test, best_y_pred))\n",
        "print()\n",
        "print(\"Classification Report:\")\n",
        "print(classification_report(y_test, best_y_pred))\n",
        "cmd = ConfusionMatrixDisplay(confusion_matrix=confusion_matrix(y_test, best_y_pred), display_labels=KNN_Scikit.classes_)\n",
        "fig, ax = plt.subplots(figsize=(5, 5))\n",
        "cmd.plot(ax=ax)"
      ]
    },
    {
      "cell_type": "code",
      "execution_count": null,
      "id": "7a65c2c4",
      "metadata": {
        "id": "7a65c2c4"
      },
      "outputs": [
        {
          "data": {
            "text/plain": [
              "array([2, 2, 3, 0, 3, 1, 3, 0, 3, 1, 3, 2, 3, 0, 3, 0, 2, 1, 0, 2, 3, 1,\n",
              "       0, 1, 1, 0, 2, 1, 0, 2, 1, 3, 3, 0, 2, 3, 1, 3, 1, 1, 0, 2, 0, 2,\n",
              "       2, 1, 1, 2, 2, 3, 1, 2, 3, 0, 1, 3, 2, 3, 3, 2, 2, 3, 3, 1, 3, 2,\n",
              "       3, 2, 2, 3, 2, 3, 1, 0, 1, 2, 0, 3, 1, 0, 3, 3, 0, 2, 3, 1, 3, 3,\n",
              "       0, 2, 1, 1, 1, 2, 1, 0, 3, 2, 1, 3, 3, 3, 1, 2, 3, 2, 3, 3, 3, 3,\n",
              "       3, 3, 2, 2, 3, 1, 0, 3, 1, 3, 1, 2, 2, 3, 2, 0, 2, 2, 1, 3, 3, 1,\n",
              "       0, 0, 3, 0, 0, 1, 3, 0, 1, 3, 3, 1, 2, 3, 1, 2, 1, 2, 3, 0, 0, 2,\n",
              "       1, 0, 2, 0, 0, 3, 3, 3, 0, 2, 3, 0, 0, 1, 0, 2, 3, 1, 0, 1, 0, 1,\n",
              "       3, 0, 2, 0, 3, 1, 1, 2, 0, 2, 0, 3, 2, 0, 3, 2, 0, 0, 2, 0, 1, 3,\n",
              "       3, 1, 1, 2, 2, 3, 2, 3, 3, 3, 0, 2, 0, 2, 3, 1, 2, 2, 2, 0, 0, 2,\n",
              "       2, 1, 3, 3, 0, 2, 0, 3, 0, 2, 2, 2, 2, 1, 3, 0, 1, 3, 3, 3, 0, 0,\n",
              "       1, 1, 3, 3, 1, 2, 0, 2, 1, 2, 3, 3, 0, 2, 2, 1, 1, 1, 0, 2, 2, 3,\n",
              "       3, 0, 1, 3, 3, 0, 0, 2, 1, 1, 1, 0, 3, 2, 2, 2, 0, 1, 0, 2, 1, 1,\n",
              "       0, 0, 3, 0, 3, 0, 1, 0, 1, 3, 3, 2, 0, 2, 1, 0, 0, 1, 2, 2, 0, 3,\n",
              "       1, 1, 0, 2, 3, 1, 3, 2, 3, 1, 2, 2, 0, 0, 2, 1, 2, 1, 0, 1, 1, 0,\n",
              "       3, 2, 3, 2, 2, 2, 3, 0, 1, 0, 1, 1, 0, 2, 2, 2, 2, 2, 1, 2, 3, 0,\n",
              "       2, 1, 2, 3, 2, 3, 2, 0, 3, 0, 0, 3, 2, 0, 3, 2, 1, 2, 0, 0, 1, 2,\n",
              "       1, 3, 0, 0, 2, 2, 0, 2, 1, 0, 3, 2, 3, 3, 0, 0, 0, 3, 1, 0, 3, 0,\n",
              "       0, 2, 0, 3, 1, 0, 1, 1, 1, 2, 0, 1, 1, 2, 3, 1, 2, 2, 3, 1, 1, 2,\n",
              "       2, 2, 0, 1, 3, 0, 0, 1, 0, 0, 0, 3, 0, 1, 2, 0, 0, 2, 1, 0, 3, 2,\n",
              "       1, 0, 2, 0, 2, 1, 1, 1, 2, 0, 1, 2, 0, 2, 0, 3, 0, 0, 1, 2, 1, 1,\n",
              "       3, 1, 1, 2, 3, 0, 3, 2, 0, 1, 2, 2, 0, 1, 2, 0, 2, 0, 1, 3, 0, 0,\n",
              "       3, 0, 2, 2, 3, 3, 1, 3, 3, 0, 1, 2, 1, 3, 1, 0, 3, 1, 3, 3, 1, 1,\n",
              "       3, 0, 3, 3, 1, 2, 0, 3, 0, 2, 2, 0, 2, 3, 0, 3, 0, 2, 3, 3, 0, 2,\n",
              "       1, 2, 3, 3, 3, 1, 2, 0, 2, 3, 3, 1, 2, 3, 1, 1, 0, 0, 3, 0, 2, 1,\n",
              "       1, 3, 2, 1, 1, 3, 0, 3, 0, 0, 3, 3, 2, 1, 2, 2, 0, 2, 0, 1, 0, 2,\n",
              "       0, 1, 0, 0, 2, 3, 0, 1, 1, 1, 0, 1, 2, 0, 1, 3, 0, 2, 1, 1, 0, 1,\n",
              "       3, 1, 3, 0, 1, 3], dtype=int64)"
            ]
          },
          "execution_count": 23,
          "metadata": {},
          "output_type": "execute_result"
        }
      ],
      "source": [
        "y_pred = KNN_Scikit.predict(x_test)\n",
        "y_pred"
      ]
    },
    {
      "cell_type": "markdown",
      "id": "7bc35581",
      "metadata": {
        "id": "7bc35581"
      },
      "source": [
        "*****"
      ]
    }
  ],
  "metadata": {
    "colab": {
      "provenance": [],
      "toc_visible": true
    },
    "kernelspec": {
      "display_name": "Python 3 (ipykernel)",
      "language": "python",
      "name": "python3"
    },
    "language_info": {
      "codemirror_mode": {
        "name": "ipython",
        "version": 3
      },
      "file_extension": ".py",
      "mimetype": "text/x-python",
      "name": "python",
      "nbconvert_exporter": "python",
      "pygments_lexer": "ipython3",
      "version": "3.11.0"
    }
  },
  "nbformat": 4,
  "nbformat_minor": 5
}
